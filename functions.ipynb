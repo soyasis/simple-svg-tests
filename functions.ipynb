{
 "cells": [
  {
   "cell_type": "code",
   "execution_count": null,
   "metadata": {},
   "outputs": [],
   "source": [
    "# Dependencies\n",
    "from svgpathtools import *"
   ]
  },
  {
   "cell_type": "code",
   "execution_count": null,
   "metadata": {},
   "outputs": [],
   "source": [
    "def parse_line(path, index):\n",
    "    \"\"\"\n",
    "    \"\"\"\n",
    "    path_metric = (round(path[index].end.real - path[index].start.real, 2),\n",
    "                   round(path[index].start.imag - path[index].end.imag, 2))\n",
    "    return path_metric\n",
    "\n",
    "\n",
    "def parse_arc(path, index):\n",
    "    \"\"\"\n",
    "    \"\"\"\n",
    "    path_metric = path._segments[index].radius\n",
    "    return path_metric\n",
    "\n",
    "\n",
    "def parse_cubic_bezier(path, index):\n",
    "    \"\"\"\n",
    "    \"\"\"\n",
    "    position_diff = (round(path[index].start.real - path[index].end.real, 2),\n",
    "                     round(path[index].start.imag - path[index].end.imag, 2))\n",
    "    control_diff = (round(path[index].control1.real - path[index].control2.real, 2),\n",
    "                    round(path[index].control1.imag - path[index].control2.imag, 2))\n",
    "    return position_diff + control_diff\n",
    "\n",
    "def parse_quadratic_bezier(path, index):\n",
    "    \"\"\"\n",
    "    \"\"\"\n",
    "    position_diff = (round(path[index].start.real - path[index].end.real, 2),\n",
    "                     round(path[index].start.imag - path[index].end.imag, 2))\n",
    "    control_diff = (round(path[index].start.real - path[index].control.real, 2),\n",
    "                    round(path[index].start.imag - path[index].control.imag, 2))\n",
    "    return position_diff + control_diff\n",
    "\n",
    "\n",
    "def parse_cubic_bezier(path, index):\n",
    "    \"\"\"\n",
    "    \"\"\"\n",
    "    position_diff = (round(path[index].start.real - path[index].end.real, 2), \n",
    "                    round(path[index].start.imag - path[index].end.imag, 2))\n",
    "    control_diff = (round(path[index].control1.real - path[index].control2.real, 2),\n",
    "                    round(path[index].control1.imag - path[index].control2.imag, 2))\n",
    "    return position_diff + control_diff"
   ]
  },
  {
   "cell_type": "code",
   "execution_count": 1,
   "metadata": {},
   "outputs": [],
   "source": [
    "def parse_path(path):\n",
    "    \"\"\"\n",
    "    input: a path object\n",
    "    output: a list of dictionaries {object_name: object_metric}\n",
    "    \n",
    "    TODOs:\n",
    "    - Add implementation to iterate over list of paths for components ???\n",
    "    \n",
    "    \"\"\"\n",
    "    path_element = []\n",
    "    for i in range(len(path._segments)):\n",
    "                # Class name\n",
    "                path_name = (type(path._segments[i]).__name__)\n",
    "                # Case metrics\n",
    "                if path_name == \"Arc\":\n",
    "                    path_metric = parse_arc(path, i)\n",
    "                    \n",
    "                elif path_name == \"Line\":\n",
    "                    path_metric = parse_line(path, i)\n",
    "                    \n",
    "                elif path_name == \"CubicBezier\":\n",
    "                    path_metric = parse_cubic_bezier(path, i)\n",
    "                \n",
    "                elif path_name == \"QuadraticBezier\":\n",
    "                    path_metric = parse_quadratic_bezier(path, i)\n",
    "                \n",
    "                else:\n",
    "                    pass\n",
    "                # Append to path element\n",
    "                path_element.append({path_name: path_metric})\n",
    "    return path_element"
   ]
  },
  {
   "cell_type": "code",
   "execution_count": null,
   "metadata": {},
   "outputs": [],
   "source": [
    "def parse_list_of_paths(list):\n",
    "    \"\"\"\n",
    "    input: a list of Path objects\n",
    "    output: a list of nested dictionaries [{index: [{object_name: object_metric}, {object_name: object_metric}]}]\n",
    "    \"\"\"    \n",
    "    file_list = []\n",
    "    for index, path in enumerate(list):\n",
    "        path_element = parse_path(path)\n",
    "        file_list.append({index: path_element})\n",
    "            \n",
    "    return file_list"
   ]
  },
  {
   "cell_type": "code",
   "execution_count": null,
   "metadata": {},
   "outputs": [],
   "source": [
    "def get_matching_paths(component_path, file_paths):\n",
    "    \"\"\"\n",
    "    input: a component path and a list of file paths\n",
    "    output: list with indexes from file_paths that match the component_path\n",
    "    \"\"\"\n",
    "    matches = [i for i, val in enumerate(file_paths) for k, v in val.items() if v == component_path]\n",
    "    return matches"
   ]
  }
 ],
 "metadata": {
  "kernelspec": {
   "display_name": "Python 3.9.15 ('svg-parser')",
   "language": "python",
   "name": "python3"
  },
  "language_info": {
   "codemirror_mode": {
    "name": "ipython",
    "version": 3
   },
   "file_extension": ".py",
   "mimetype": "text/x-python",
   "name": "python",
   "nbconvert_exporter": "python",
   "pygments_lexer": "ipython3",
   "version": "3.9.15"
  },
  "orig_nbformat": 4,
  "vscode": {
   "interpreter": {
    "hash": "6229c8ced8448099d2ee0b9918bcee724128be2f562267952159550c73c75cb5"
   }
  }
 },
 "nbformat": 4,
 "nbformat_minor": 2
}
