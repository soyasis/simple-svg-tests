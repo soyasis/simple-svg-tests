{
 "cells": [
  {
   "cell_type": "code",
   "execution_count": 16,
   "metadata": {},
   "outputs": [],
   "source": [
    "from svgpathtools import *\n",
    "from ipynb.fs.full.functions import * # import * from functions.ipynb"
   ]
  },
  {
   "cell_type": "code",
   "execution_count": 17,
   "metadata": {},
   "outputs": [],
   "source": [
    "# Paths\n",
    "component = './tests/arrow.svg'\n",
    "mixed_file = './tests/screen-multiple.svg'\n",
    "\n",
    "# import svg's file\n",
    "c_paths, c_attributes, c_svg_attributes = svg2paths2(component)\n",
    "f_paths, f_attributes, f_svg_attributes = svg2paths2(mixed_file)"
   ]
  },
  {
   "cell_type": "code",
   "execution_count": 18,
   "metadata": {},
   "outputs": [
    {
     "data": {
      "text/plain": [
       "[{'CubicBezier': (0.0, 3.54, 0.0, 1.58)},\n",
       " {'Line': (-15.91, 15.91)},\n",
       " {'CubicBezier': (3.54, 0.0, 1.58, 0.0)},\n",
       " {'CubicBezier': (0.0, -3.54, 0.0, -1.58)},\n",
       " {'Line': (14.14, -14.14)},\n",
       " {'Line': (-14.14, -14.14)},\n",
       " {'CubicBezier': (0.0, -3.54, 0.0, -1.58)},\n",
       " {'CubicBezier': (-3.54, 0.0, -1.58, 0.0)},\n",
       " {'Line': (15.91, 15.91)},\n",
       " {'Line': (67.0, 0.0)},\n",
       " {'Line': (0.0, 5.0)},\n",
       " {'Line': (-67.0, 0.0)},\n",
       " {'Line': (0.0, -5.0)}]"
      ]
     },
     "execution_count": 18,
     "metadata": {},
     "output_type": "execute_result"
    }
   ],
   "source": [
    "component_path = parse_path(c_paths[0])\n",
    "component_path"
   ]
  },
  {
   "cell_type": "code",
   "execution_count": 19,
   "metadata": {},
   "outputs": [
    {
     "data": {
      "text/plain": [
       "[{0: [{'CubicBezier': (0.0, 3.54, 0.0, 1.58)},\n",
       "   {'Line': (-15.91, 15.91)},\n",
       "   {'CubicBezier': (3.54, 0.0, 1.58, 0.0)},\n",
       "   {'CubicBezier': (0.0, -3.54, 0.0, -1.58)},\n",
       "   {'Line': (14.14, -14.14)},\n",
       "   {'Line': (-14.14, -14.14)},\n",
       "   {'CubicBezier': (0.0, -3.54, 0.0, -1.58)},\n",
       "   {'CubicBezier': (-3.54, 0.0, -1.58, 0.0)},\n",
       "   {'Line': (15.91, 15.91)},\n",
       "   {'Line': (67.0, 0.0)},\n",
       "   {'Line': (0.0, 5.0)},\n",
       "   {'Line': (-67.0, 0.0)},\n",
       "   {'Line': (0.0, -5.0)}]},\n",
       " {1: [{'CubicBezier': (0.0, 3.54, 0.0, 1.58)},\n",
       "   {'Line': (-15.91, 15.91)},\n",
       "   {'CubicBezier': (3.54, 0.0, 1.58, 0.0)},\n",
       "   {'CubicBezier': (0.0, -3.54, 0.0, -1.58)},\n",
       "   {'Line': (14.14, -14.14)},\n",
       "   {'Line': (-14.14, -14.14)},\n",
       "   {'CubicBezier': (0.0, -3.54, 0.0, -1.58)},\n",
       "   {'CubicBezier': (-3.54, 0.0, -1.58, 0.0)},\n",
       "   {'Line': (15.91, 15.91)},\n",
       "   {'Line': (67.0, 0.0)},\n",
       "   {'Line': (0.0, 5.0)},\n",
       "   {'Line': (-67.0, 0.0)},\n",
       "   {'Line': (0.0, -5.0)}]},\n",
       " {2: [{'Line': (35.07, -60.75)},\n",
       "   {'Line': (-70.15, 0.0)},\n",
       "   {'Line': (35.07, 60.75)}]},\n",
       " {3: [{'Line': (113.0, 27.0)}]},\n",
       " {4: [{'Arc': (40.5+40.5j)}, {'Arc': (40.5+40.5j)}]},\n",
       " {5: [{'Arc': (40.5+40.5j)}, {'Arc': (40.5+40.5j)}]},\n",
       " {6: [{'Line': (375.0, 0.0)},\n",
       "   {'Line': (0.0, -363.0)},\n",
       "   {'Line': (-375.0, 0.0)},\n",
       "   {'Line': (0.0, 363.0)}]}]"
      ]
     },
     "execution_count": 19,
     "metadata": {},
     "output_type": "execute_result"
    }
   ],
   "source": [
    "file_paths = parse_list_of_paths(f_paths)\n",
    "file_paths"
   ]
  },
  {
   "cell_type": "code",
   "execution_count": 20,
   "metadata": {},
   "outputs": [
    {
     "data": {
      "text/plain": [
       "[0, 1]"
      ]
     },
     "execution_count": 20,
     "metadata": {},
     "output_type": "execute_result"
    }
   ],
   "source": [
    "# Find matching indexes\n",
    "matches = get_matching_paths(component_path, file_paths)\n",
    "matches"
   ]
  },
  {
   "cell_type": "code",
   "execution_count": 21,
   "metadata": {},
   "outputs": [],
   "source": [
    "# Export svg\n",
    "# Filter Paths and Attributes by index from matches\n",
    "export_paths = [f_paths[i] for i in matches]\n",
    "export_attributes = [f_attributes[i] for i in matches]\n",
    "\n",
    "# Export\n",
    "wsvg(paths=export_paths, \n",
    "        attributes=export_attributes, \n",
    "        svg_attributes=f_svg_attributes, \n",
    "        filename=f'./tests/exports/export_arrows.svg')"
   ]
  },
  {
   "cell_type": "code",
   "execution_count": null,
   "metadata": {},
   "outputs": [],
   "source": []
  }
 ],
 "metadata": {
  "kernelspec": {
   "display_name": "Python 3.9.15 ('svg-parser')",
   "language": "python",
   "name": "python3"
  },
  "language_info": {
   "codemirror_mode": {
    "name": "ipython",
    "version": 3
   },
   "file_extension": ".py",
   "mimetype": "text/x-python",
   "name": "python",
   "nbconvert_exporter": "python",
   "pygments_lexer": "ipython3",
   "version": "3.9.15"
  },
  "orig_nbformat": 4,
  "vscode": {
   "interpreter": {
    "hash": "6229c8ced8448099d2ee0b9918bcee724128be2f562267952159550c73c75cb5"
   }
  }
 },
 "nbformat": 4,
 "nbformat_minor": 2
}
